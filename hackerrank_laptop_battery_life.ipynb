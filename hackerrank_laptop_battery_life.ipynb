{
  "nbformat": 4,
  "nbformat_minor": 0,
  "metadata": {
    "colab": {
      "name": "laptop_battery_life.ipynb",
      "version": "0.3.2",
      "provenance": [],
      "include_colab_link": true
    },
    "kernelspec": {
      "name": "python3",
      "display_name": "Python 3"
    }
  },
  "cells": [
    {
      "cell_type": "markdown",
      "metadata": {
        "id": "view-in-github",
        "colab_type": "text"
      },
      "source": [
        "<a href=\"https://colab.research.google.com/github/kahramanelif/pythonbootcamp19/blob/master/hackerrank_laptop_battery_life.ipynb\" target=\"_parent\"><img src=\"https://colab.research.google.com/assets/colab-badge.svg\" alt=\"Open In Colab\"/></a>"
      ]
    },
    {
      "cell_type": "code",
      "metadata": {
        "id": "sczs-fP4BwxM",
        "colab_type": "code",
        "colab": {}
      },
      "source": [
        "\n",
        "\n",
        "import matplotlib.pyplot as plt\n",
        "import pylab\n"
      ],
      "execution_count": 0,
      "outputs": []
    },
    {
      "cell_type": "markdown",
      "metadata": {
        "id": "vu0cKbhPPhYa",
        "colab_type": "text"
      },
      "source": [
        "https://www.hackerrank.com/challenges/battery/problem solution"
      ]
    },
    {
      "cell_type": "markdown",
      "metadata": {
        "id": "sFwLotecPVZO",
        "colab_type": "text"
      },
      "source": [
        ""
      ]
    },
    {
      "cell_type": "code",
      "metadata": {
        "id": "4L7nnOGnCbD2",
        "colab_type": "code",
        "colab": {
          "base_uri": "https://localhost:8080/",
          "height": 34
        },
        "outputId": "5661ffb8-c770-4b57-a12e-e4478eae1b8e"
      },
      "source": [
        "from google.colab import drive\n",
        "drive.mount('/content/gdrive')"
      ],
      "execution_count": 5,
      "outputs": [
        {
          "output_type": "stream",
          "text": [
            "Drive already mounted at /content/gdrive; to attempt to forcibly remount, call drive.mount(\"/content/gdrive\", force_remount=True).\n"
          ],
          "name": "stdout"
        }
      ]
    },
    {
      "cell_type": "markdown",
      "metadata": {
        "id": "IdW4K9tGGRcC",
        "colab_type": "text"
      },
      "source": [
        "**Reading Data From Drive**"
      ]
    },
    {
      "cell_type": "code",
      "metadata": {
        "id": "MDAKMHC_Eou1",
        "colab_type": "code",
        "colab": {}
      },
      "source": [
        "\n",
        "data = pylab.loadtxt('/content/gdrive/My Drive/bootcamp/hackerrank/laptop_battery_life/trainingdata.txt', delimiter=',')\n",
        "x = data[:, 0]\n",
        "y = data[:, 1]"
      ],
      "execution_count": 0,
      "outputs": []
    },
    {
      "cell_type": "code",
      "metadata": {
        "id": "8tSYgvHAF7b0",
        "colab_type": "code",
        "colab": {
          "base_uri": "https://localhost:8080/",
          "height": 294
        },
        "outputId": "b0f50620-6a2e-4505-9775-56ba6158de1c"
      },
      "source": [
        "plt.scatter(x, y, color='magenta')\n",
        "plt.title('Fred\\'s Battery Life')\n",
        "plt.xlabel('Charged time (h)')\n",
        "plt.ylabel('Laptop usage (h)')\n",
        "plt.grid()\n",
        "plt.show()"
      ],
      "execution_count": 28,
      "outputs": [
        {
          "output_type": "display_data",
          "data": {
            "image/png": "[encoded data removed]",
            "text/plain": [
              "<Figure size 432x288 with 1 Axes>"
            ]
          },
          "metadata": {
            "tags": []
          }
        }
      ]
    },
    {
      "cell_type": "markdown",
      "metadata": {
        "id": "r9d6OuTtPO4j",
        "colab_type": "text"
      },
      "source": [
        "**Predicting Fred’s laptop battery life**"
      ]
    },
    {
      "cell_type": "code",
      "metadata": {
        "id": "f56QTUl2GuBI",
        "colab_type": "code",
        "colab": {
          "base_uri": "https://localhost:8080/",
          "height": 87
        },
        "outputId": "0b7b3421-d088-4918-ac6d-9a0078fe73d2"
      },
      "source": [
        "while True:\n",
        "  \n",
        "  charged_time = float(input().strip())\n",
        "  print(\"{0:.2f}\".format(min(charged_time * 2, 8)))\n",
        "  \n",
        "  quit = input(\"press q to quit!\\n\")\n",
        "\n",
        "  if quit == 'q':\n",
        "    break\n"
      ],
      "execution_count": 21,
      "outputs": [
        {
          "output_type": "stream",
          "text": [
            "4\n",
            "8.00\n",
            "press q to quit!\n",
            "q\n"
          ],
          "name": "stdout"
        }
      ]
    }
  ]
}